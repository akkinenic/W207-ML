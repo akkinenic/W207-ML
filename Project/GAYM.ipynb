{
 "cells": [
  {
   "cell_type": "markdown",
   "metadata": {},
   "source": [
    "# Forest Cover Type Prediction\n",
    "## W207 Final Project: Baseline Report\n",
    "### _Team RanForest: Anu Yadav, Naga Akkineni, Lina Gurevich, Rishi Majumder_"
   ]
  },
  {
   "cell_type": "markdown",
   "metadata": {},
   "source": [
    "## Contents"
   ]
  },
  {
   "cell_type": "markdown",
   "metadata": {},
   "source": [
    "## 1. Problem Introduction"
   ]
  },
  {
   "cell_type": "markdown",
   "metadata": {},
   "source": [
    "Natural resources are key to keep a balance in the ecological life cycle. A larger goal of this project is to map out various type of tree populations in different regions and how deforestation through natural causes like a forest fire or human activities create sustainable environmental impact. \n",
    "\n",
    "The Roosevelt National Forest is located in north central Colorado and covers a total area of 813,799 acres (1,271.56 sq mi). There are six officially designated wilderness areas lying within Roosevelt National Forest that are part of the National Wilderness Preservation System. \n",
    "\n",
    "In this study we will focus on the four forest areas characterized by minimal human-caused disturbances, so that existing forest cover types are more a result of ecological processes rather than forest management practices.\n",
    "\n",
    "1 - **Rawah Wilderness Area** (119.4 square miles)  \n",
    "Elevation ranges from 8,400 ft to 13,000 ft.\n",
    "\n",
    "2 - **Neota Wilderness Area** (15.51 square miles)  \n",
    "Elevation ranges from 10,000 ft to 11,896 ft.\n",
    "\n",
    "3 - **Comanche Peak Wilderness Area** (104.4 square miles)  \n",
    "Elevation ranges from 8,000 ft to 12,702 ft.\n",
    "\n",
    "4 - **Cache la Poudre Wilderness Area** (14.47 square miles)  \n",
    "Elevation ranges from 6,200 ft to 8,600 ft.\n",
    "\n",
    "There are **7** types of forest cover that are common in the park:\n",
    "\n",
    "<img src=\"Cover Types.PNG\"> \n",
    "\n",
    "Our task is to predict the forest cover type (the predominant kind of tree cover) from strictly cartographic variables (as opposed to remotely sensed data). The actual forest cover type for a given 30 x 30 meter cell was determined from US Forest Service (USFS) Region 2 Resource Information System data. Independent variables were then derived from data obtained from the US Geological Survey and USFS. The data is in raw form (not scaled) and contains binary columns of data for qualitative independent variables such as wilderness areas and soil type."
   ]
  },
  {
   "cell_type": "markdown",
   "metadata": {},
   "source": [
    "## 2. Exploratory Data Analysis"
   ]
  },
  {
   "cell_type": "markdown",
   "metadata": {},
   "source": [
    "The original dataset contains the following features that can be roughly split into 7 groups:\n",
    "\n",
    "1. *Landscape*  \n",
    "**Elevation** - Elevation in meters  \n",
    "**Aspect** - Aspect in degrees azimuth  \n",
    "**Slope** - Slope in degrees \n",
    "\n",
    "\n",
    "2. *Proximity to water supplies*  \n",
    "**Horizontal_Distance_To_Hydrology** - Horz Dist to nearest surface water features  \n",
    "**Vertical_Distance_To_Hydrology** - Vert Dist to nearest surface water features  \n",
    "\n",
    "\n",
    "3. *Proximity to human-caused habitat alteration*  \n",
    "**Horizontal_Distance_To_Roadways** - Horz Dist to nearest roadway  \n",
    "\n",
    "\n",
    "4. *Sun exposure*  \n",
    "**Hillshade_9am (0 to 255 index)** - Hillshade index at 9am, summer solstice  \n",
    "**Hillshade_Noon (0 to 255 index)** - Hillshade index at noon, summer solstice  \n",
    "**Hillshade_3pm (0 to 255 index)** - Hillshade index at 3pm, summer solstice  \n",
    "\n",
    "\n",
    "5. *Wildfire risk factor*  \n",
    "**Horizontal_Distance_To_Fire_Points** - Horz Dist to nearest wildfire ignition points  \n",
    "\n",
    "\n",
    "6. *Location within the park*  \n",
    "**Wilderness_Area (4 binary columns, 0 = absence or 1 = presence)** - Wilderness area designation  \n",
    "\n",
    "\n",
    "7. *Type of soil*  \n",
    "**Soil_Type (40 binary columns, 0 = absence or 1 = presence)** - Soil Type designation\n",
    "\n",
    "Prior to conducting a thorough quantitative analysis, we can reason that any of the features listed above may affect the type of the predominant forest cover in a particular area. Therefore, we will retain all the features at this stage of our investigation."
   ]
  },
  {
   "cell_type": "code",
   "execution_count": 8,
   "metadata": {},
   "outputs": [],
   "source": [
    "# Import necessary modules and libraries\n",
    "\n",
    "# This tells matplotlib not to try opening a new window for each plot.\n",
    "%matplotlib inline\n",
    "\n",
    "import numpy as np\n",
    "import pandas as pd\n",
    "import matplotlib.pyplot as plt\n",
    "#from sklearn.preprocessing import LabelBinarizer\n",
    "import re\n",
    "from sklearn.feature_selection import VarianceThreshold\n",
    "from sklearn.model_selection import train_test_split\n",
    "from sklearn.preprocessing import StandardScaler\n",
    "\n",
    "from sklearn.model_selection import GridSearchCV\n",
    "\n",
    "from sklearn.pipeline import Pipeline, FeatureUnion\n",
    "\n",
    "from sklearn.decomposition import PCA\n",
    "\n",
    "from sklearn.linear_model import LogisticRegression\n",
    "from sklearn.ensemble import RandomForestClassifier\n",
    "from sklearn.svm import SVC\n",
    "\n",
    "# To install xgboost package with conda, run:\n",
    "# conda install -c anaconda py-xgboost\n",
    "#from xgboost import XGBClassifier\n",
    "\n",
    "import sklearn.metrics\n",
    "import seaborn as sns; sns.set()"
   ]
  },
  {
   "cell_type": "code",
   "execution_count": 9,
   "metadata": {},
   "outputs": [
    {
     "name": "stdout",
     "output_type": "stream",
     "text": [
      "Original dataset shape:  (15120, 56)\n"
     ]
    }
   ],
   "source": [
    "# Read the training dataset into a pandas dataframe\n",
    "raw_data = pd.read_csv(\"train.csv\")\n",
    "print(\"Original dataset shape: \", raw_data.shape)"
   ]
  },
  {
   "cell_type": "markdown",
   "metadata": {},
   "source": [
    "**Observations:**  \n",
    "\n",
    "- The original dataset consists of 15,120 observations, each with 55 features and 1 target variable."
   ]
  }
 ],
 "metadata": {
  "kernelspec": {
   "display_name": "Python 3",
   "language": "python",
   "name": "python3"
  },
  "language_info": {
   "codemirror_mode": {
    "name": "ipython",
    "version": 3
   },
   "file_extension": ".py",
   "mimetype": "text/x-python",
   "name": "python",
   "nbconvert_exporter": "python",
   "pygments_lexer": "ipython3",
   "version": "3.6.5"
  }
 },
 "nbformat": 4,
 "nbformat_minor": 2
}
